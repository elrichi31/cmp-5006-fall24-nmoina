{
 "cells": [
  {
   "cell_type": "markdown",
   "metadata": {},
   "source": [
    "# HW1 - Cybersecurity - Nicolas Moina, Alex Perez\n",
    "\n",
    "## picoCTF"
   ]
  },
  {
   "cell_type": "markdown",
   "metadata": {},
   "source": [
    "# 1. interencdec\n",
    "\n",
    "    Given String: YidkM0JxZGtwQlRYdHFhR3g2YUhsZmF6TnFlVGwzWVROclh6ZzVNR3N5TXpjNWZRPT0nCg==\n",
    "\n",
    "    From the tags and the hint provided, we can try a base64 decoding process, since it seems like it was encoded using it. We can use an online base64 decoder or write a python code that does it.\n",
    "\n",
    "### Option 1: Python Code"
   ]
  },
  {
   "cell_type": "code",
   "execution_count": 1,
   "metadata": {},
   "outputs": [
    {
     "name": "stdout",
     "output_type": "stream",
     "text": [
      "encoded string: YidkM0JxZGtwQlRYdHFhR3g2YUhsZmF6TnFlVGwzWVROclh6ZzVNR3N5TXpjNWZRPT0nCg==\n",
      "decoded bytes: b\"b'd3BqdkpBTXtqaGx6aHlfazNqeTl3YTNrXzg5MGsyMzc5fQ=='\\n\"\n",
      "decoded string from bytes: b'd3BqdkpBTXtqaGx6aHlfazNqeTl3YTNrXzg5MGsyMzc5fQ=='\n",
      "\n"
     ]
    }
   ],
   "source": [
    "import base64\n",
    "\n",
    "# encoded string\n",
    "e_str = \"YidkM0JxZGtwQlRYdHFhR3g2YUhsZmF6TnFlVGwzWVROclh6ZzVNR3N5TXpjNWZRPT0nCg==\"\n",
    "\n",
    "print(f'encoded string: {e_str}')\n",
    "\n",
    "# decode the string\n",
    "d_bytes = base64.b64decode(e_str)\n",
    "\n",
    "print(f'decoded bytes: {d_bytes}')\n",
    "# convert the bytes to string\n",
    "d_str = d_bytes.decode(\"utf-8\") # utf-8 is the encoding\n",
    "\n",
    "# Print the decoded result\n",
    "print(f'decoded string from bytes: {d_str}')"
   ]
  },
  {
   "cell_type": "markdown",
   "metadata": {},
   "source": [
    "The obtained decoded string still looks like it is encrypted. Since the hint to the problem suggests that multiple processes are neccesary for the decryption, we can try to decode it again. Also, the real message appears to be inside the ' symbols, so we can just ignore the \"b\" at the beginning.\n",
    "\n",
    "Since another of the tags refers to \"caesar\" we can suppose that a caesar cypher is needed. "
   ]
  },
  {
   "cell_type": "code",
   "execution_count": 2,
   "metadata": {},
   "outputs": [
    {
     "name": "stdout",
     "output_type": "stream",
     "text": [
      "decoded bytes: b'wpjvJAM{jhlzhy_k3jy9wa3k_890k2379}'\n",
      "decoded (twice) string: wpjvJAM{jhlzhy_k3jy9wa3k_890k2379}\n"
     ]
    }
   ],
   "source": [
    "# decoded string is wrapped inside b'' symbols. \n",
    "extracted_str = d_str.strip(\"b'\")\n",
    "\n",
    "# decode the string once more\n",
    "d_bytes = base64.b64decode(extracted_str)\n",
    "print(f'decoded bytes: {d_bytes}')\n",
    "\n",
    "decoded_str = d_bytes.decode(\"utf-8\")\n",
    "print(f'decoded (twice) string: {decoded_str}')"
   ]
  },
  {
   "cell_type": "markdown",
   "metadata": {},
   "source": [
    "To perform the Caesar cipher decryption, we need to shift the letters in the encoded message by a certain number of positions in the alphabet in the reverse direction. Unless we know the shift amount (key), we should tru all possible shifts from 1 to 25 (using the standar alphabet)."
   ]
  },
  {
   "cell_type": "code",
   "execution_count": 3,
   "metadata": {},
   "outputs": [
    {
     "name": "stdout",
     "output_type": "stream",
     "text": [
      "Shift 0: wpjvJAM{jhlzhy_k3jy9wa3k_890k2379}\n",
      "Shift 1: voiuIZL{igkygx_j3ix9vz3j_890j2379}\n",
      "Shift 2: unhtHYK{hfjxfw_i3hw9uy3i_890i2379}\n",
      "Shift 3: tmgsGXJ{geiwev_h3gv9tx3h_890h2379}\n",
      "Shift 4: slfrFWI{fdhvdu_g3fu9sw3g_890g2379}\n",
      "Shift 5: rkeqEVH{ecguct_f3et9rv3f_890f2379}\n",
      "Shift 6: qjdpDUG{dbftbs_e3ds9qu3e_890e2379}\n",
      "Shift 7: picoCTF{caesar_d3cr9pt3d_890d2379}\n",
      "Shift 8: ohbnBSE{bzdrzq_c3bq9os3c_890c2379}\n",
      "Shift 9: ngamARD{aycqyp_b3ap9nr3b_890b2379}\n",
      "Shift 10: mfzlZQC{zxbpxo_a3zo9mq3a_890a2379}\n",
      "Shift 11: leykYPB{ywaown_z3yn9lp3z_890z2379}\n",
      "Shift 12: kdxjXOA{xvznvm_y3xm9ko3y_890y2379}\n",
      "Shift 13: jcwiWNZ{wuymul_x3wl9jn3x_890x2379}\n",
      "Shift 14: ibvhVMY{vtxltk_w3vk9im3w_890w2379}\n",
      "Shift 15: haugULX{uswksj_v3uj9hl3v_890v2379}\n",
      "Shift 16: gztfTKW{trvjri_u3ti9gk3u_890u2379}\n",
      "Shift 17: fyseSJV{squiqh_t3sh9fj3t_890t2379}\n",
      "Shift 18: exrdRIU{rpthpg_s3rg9ei3s_890s2379}\n",
      "Shift 19: dwqcQHT{qosgof_r3qf9dh3r_890r2379}\n",
      "Shift 20: cvpbPGS{pnrfne_q3pe9cg3q_890q2379}\n",
      "Shift 21: buoaOFR{omqemd_p3od9bf3p_890p2379}\n",
      "Shift 22: atnzNEQ{nlpdlc_o3nc9ae3o_890o2379}\n",
      "Shift 23: zsmyMDP{mkockb_n3mb9zd3n_890n2379}\n",
      "Shift 24: yrlxLCO{ljnbja_m3la9yc3m_890m2379}\n",
      "Shift 25: xqkwKBN{kimaiz_l3kz9xb3l_890l2379}\n"
     ]
    }
   ],
   "source": [
    "def caesar_decrypt(ciphertext, shift):\n",
    "    decrypted_text = \"\"\n",
    "    \n",
    "    for char in ciphertext:\n",
    "        if char.isalpha():  # we only work with alphabetic characters\n",
    "            ascii_offset = 65 if char.isupper() else 97 # deal with lower or uppercase \n",
    "            decrypted_text += chr((ord(char) - ascii_offset - shift) % 26 + ascii_offset)\n",
    "        else:\n",
    "            decrypted_text += char \n",
    "\n",
    "    return decrypted_text\n",
    "\n",
    "# we try all possible shifts\n",
    "for shift in range(26):\n",
    "    decrypted_message = caesar_decrypt(decoded_str, shift)\n",
    "    print(f\"Shift {shift}: {decrypted_message}\")"
   ]
  },
  {
   "cell_type": "markdown",
   "metadata": {},
   "source": [
    "Checking accross the results, the one that makes sense is when shift is **7: picoCTF{caesar_d3cr9pt3d_890d2379}**"
   ]
  },
  {
   "cell_type": "markdown",
   "metadata": {},
   "source": [
    "### Option 2: using the web\n",
    "\n",
    "Given that we know the original encripted message should be decrypted using a base64 method, we can search in the web a page that does it for us (without a python code) as follows:"
   ]
  },
  {
   "cell_type": "markdown",
   "metadata": {},
   "source": [
    "https://www.base64decode.org (website used)\n",
    "\n",
    "\n",
    "<img src=\"img/1.png\" alt=\"Texto alternativo\" width=\"500\" height=\"400\">?"
   ]
  },
  {
   "cell_type": "markdown",
   "metadata": {},
   "source": [
    "Finally go to a caesar cipher web and use it with the resulting string from the previous steps: \n",
    "\n",
    "https://cryptii.com/pipes/caesar-cipher (website used)\n",
    "\n",
    "<img src=\"img/2.png\" alt=\"Texto alternativo\" width=\"700\" height=\"200\">"
   ]
  },
  {
   "cell_type": "markdown",
   "metadata": {},
   "source": [
    "# 2. The Numbers\n",
    "\n",
    "<img src=\"img/3.png\" alt=\"Texto alternativo\" width=\"700\" height=\"300\">"
   ]
  },
  {
   "cell_type": "markdown",
   "metadata": {},
   "source": [
    "### Option 1: Mapping Numbers and Letters"
   ]
  },
  {
   "cell_type": "code",
   "execution_count": 4,
   "metadata": {},
   "outputs": [
    {
     "name": "stdout",
     "output_type": "stream",
     "text": [
      "Encrypted message: 16 9 3 15 3 20 6 { 20 8 5 14 21 13 2 5 18 19 13 1 19 15 14 }\n",
      "Result: PICOCTF{THENUMBERSMASON}\n"
     ]
    }
   ],
   "source": [
    "letters = [chr(i) for i in range(65, 91)]\n",
    "numbers = [str(i) for i in range(27)]\n",
    "\n",
    "#original encrypted message\n",
    "\n",
    "e_message = \"16 9 3 15 3 20 6 { 20 8 5 14 21 13 2 5 18 19 13 1 19 15 14 }\"\n",
    "\n",
    "print(f\"Encrypted message: {e_message}\")\n",
    "\n",
    "e_message2 = e_message.split(\" \")\n",
    "\n",
    "# decrypt the message\n",
    "for i in range(len(e_message2)):\n",
    "    if e_message2[i].isdigit():\n",
    "        e_message2[i] = letters[numbers.index(e_message2[i])-1]\n",
    "\n",
    "# print the decrypted message in string form\n",
    "e_messagef = \"\".join(e_message2)\n",
    "\n",
    "print(f\"Result: {e_messagef}\")"
   ]
  },
  {
   "cell_type": "markdown",
   "metadata": {},
   "source": [
    "### Option 2: Using ascii offset"
   ]
  },
  {
   "cell_type": "code",
   "execution_count": 5,
   "metadata": {},
   "outputs": [
    {
     "name": "stdout",
     "output_type": "stream",
     "text": [
      "Encrypted message: ['16', '9', '3', '15', '3', '20', '6', '{', '20', '8', '5', '14', '21', '13', '2', '5', '18', '19', '13', '1', '19', '15', '14', '}']\n",
      "Result: PICOCTF{THENUMBERSMASON}\n"
     ]
    }
   ],
   "source": [
    "e_message = \"16 9 3 15 3 20 6 { 20 8 5 14 21 13 2 5 18 19 13 1 19 15 14 }\"\n",
    "\n",
    "e_message2 = e_message.split(\" \")\n",
    "\n",
    "print(f\"Encrypted message: {e_message2}\")\n",
    "\n",
    "s = \"\"\n",
    "i = 0\n",
    "for char in e_message2:\n",
    "    if char.isdigit():\n",
    "        s += chr(int(char) + 64) # 64 is the ascii offset for uppercase letters\n",
    "    else:\n",
    "        s += char\n",
    "\n",
    "print(f\"Result: {s}\")"
   ]
  },
  {
   "cell_type": "markdown",
   "metadata": {},
   "source": [
    "# 3. C3\n",
    "\n",
    "### Option 1:"
   ]
  },
  {
   "cell_type": "markdown",
   "metadata": {},
   "source": [
    "For this we can try to use the given encoder on a plain text that we know. Since the encoder seems to take into consideration spaces and different lines, we can modify the encoder code in order to receive a .txt file.\n",
    "\n",
    "The given file for this test looks as follows:\n",
    "\n",
    "```\n",
    "picoctf problem\n",
    "C3 is supposed to be solved\n",
    "hw1 cybersecurity\n",
    "```"
   ]
  },
  {
   "cell_type": "code",
   "execution_count": 6,
   "metadata": {},
   "outputs": [
    {
     "name": "stdout",
     "output_type": "stream",
     "text": [
      "jnoMiRgciCrhKnIOjCrhKnIPbKJlCpAtEgtempNODdlqrKdtdbPNmPcRDNBgsSrlLF\n"
     ]
    }
   ],
   "source": [
    "# Updated encoder to read from the uploaded text file\n",
    "\n",
    "# Define the lookup tables\n",
    "lookup1 = \"\\n \\\"#()*+/1:=[]abcdefghijklmnopqrstuvwxyz\"\n",
    "lookup2 = \"ABCDEFGHIJKLMNOPQRSTabcdefghijklmnopqrst\"\n",
    "\n",
    "#read the txt file\n",
    "with open('texto1.txt', 'r') as file:\n",
    "    chars = file.read()\n",
    "\n",
    "out = \"\"\n",
    "\n",
    "prev = 0\n",
    "# Iterate through each character in the input file\n",
    "for char in chars:\n",
    "    if char in lookup1:  # Ensure the character is in lookup1\n",
    "        cur = lookup1.index(char)  # Find the index in lookup1\n",
    "        out += lookup2[(cur - prev) % 40]  # Perform the cyclical shift\n",
    "        prev = cur  # Update the previous character's index\n",
    "    else:\n",
    "        out += char  # If the character is not in lookup1, just append it as is\n",
    "\n",
    "# Output the result to the console\n",
    "print(out)"
   ]
  },
  {
   "cell_type": "markdown",
   "metadata": {},
   "source": [
    "Once we understook how the encoder works, and since the problem itself hints that the decoding process depends on the given encoder, we can try to reverse its process, use the encoding message, and check if the result is our known plain text. For this we use the `chars` variable."
   ]
  },
  {
   "cell_type": "code",
   "execution_count": 7,
   "metadata": {},
   "outputs": [
    {
     "name": "stdout",
     "output_type": "stream",
     "text": [
      "picoctf problem\n",
      "problem is supposed to be solved\n",
      "hw1 cybersecurity\n"
     ]
    }
   ],
   "source": [
    "# decoder (encoder but reversed)\n",
    "\n",
    "# Define the lookup tables\n",
    "lookup1 = \"\\n \\\"#()*+/1:=[]abcdefghijklmnopqrstuvwxyz\"\n",
    "lookup2 = \"ABCDEFGHIJKLMNOPQRSTabcdefghijklmnopqrst\"\n",
    "\n",
    "chars = \"jnoMiRgciCrhKnIOjCrhKnIPbKJlCpAtEgtempNODdlqrKdtdbPNmPcRDNBgsSrlLF\"\n",
    "\n",
    "out = \"\"\n",
    "prev = 0\n",
    "# Iterate through each character in the input file\n",
    "for char in chars:\n",
    "    if char in lookup2:  # Ensure the character is in lookup2\n",
    "        cur = lookup2.index(char)  # Find the index in lookup2\n",
    "        out += lookup1[(cur + prev) % 40]  # Inverse Perform the cyclical shift\n",
    "        prev = (cur + prev) % 40  # Update the previous character's index\n",
    "    else:\n",
    "        out += char  # If the character is not in lookup2, just append it as is\n",
    "\n",
    "# Output the result to the console\n",
    "print(out)"
   ]
  },
  {
   "cell_type": "markdown",
   "metadata": {},
   "source": [
    "With this result we are sure that the decoder developed, just by inversing the process of the given encoder, can be used in order to decrypt the encrypted message given by the problem."
   ]
  },
  {
   "cell_type": "code",
   "execution_count": 8,
   "metadata": {},
   "outputs": [
    {
     "name": "stdout",
     "output_type": "stream",
     "text": [
      "#asciiorder\n",
      "#fortychars\n",
      "#selfinput\n",
      "#pythontwo\n",
      "\n",
      "chars = \"\"\n",
      "from fileinput import input\n",
      "for line in input():\n",
      "    chars += line\n",
      "b = 1 / 1\n",
      "\n",
      "for i in range(len(chars)):\n",
      "    if i == b * b * b:\n",
      "        print chars[i] #prints\n",
      "        b += 1 / 1\n",
      "\n"
     ]
    }
   ],
   "source": [
    "# decoder (encoder but reversed)\n",
    "\n",
    "# Define the lookup tables\n",
    "lookup1 = \"\\n \\\"#()*+/1:=[]abcdefghijklmnopqrstuvwxyz\"\n",
    "lookup2 = \"ABCDEFGHIJKLMNOPQRSTabcdefghijklmnopqrst\"\n",
    "\n",
    "chars = \"DLSeGAGDgBNJDQJDCFSFnRBIDjgHoDFCFtHDgJpiHtGDmMAQFnRBJKkBAsTMrsPSDDnEFCFtIbEDtDCIbFCFtHTJDKerFldbFObFCFtLBFkBAAAPFnRBJGEkerFlcPgKkImHnIlATJDKbTbFOkdNnsgbnJRMFnRBNAFkBAAAbrcbTKAkOgFpOgFpOpkBAAAAAAAiClFGIPFnRBaKliCgClFGtIBAAAAAAAOgGEkImHnIl\"\n",
    "\n",
    "out = \"\"\n",
    "prev = 0\n",
    "# Iterate through each character in the input file\n",
    "for char in chars:\n",
    "    if char in lookup2:  # Ensure the character is in lookup2\n",
    "        cur = lookup2.index(char)  # Find the index in lookup2\n",
    "        out += lookup1[(cur + prev) % 40]  # Inverse Perform the cyclical shift\n",
    "        prev = (cur + prev) % 40  # Update the previous character's index\n",
    "    else:\n",
    "        out += char  # If the character is not in lookup2, just append it as is\n",
    "\n",
    "# Output the result to the console\n",
    "print(out)"
   ]
  },
  {
   "cell_type": "markdown",
   "metadata": {},
   "source": [
    "This decrypted message gives us new hints and a code. The #pythontwo code explains why in the code section we have `print chars[i]` instead of `print(chars[i])`. \n",
    "\n",
    "We can assume that, passing a scrypt containing this decrypted message, through the new given code, will give us the real flag in order to solve the problem. \n",
    "\n",
    "Once again, we modified the given code in order to read a txt file that contains the encrypted message to be decrypted and that looks as follows:\n",
    "\n",
    "* contents of texto.txt file:\n",
    "    ```#asciiorder\n",
    "    #fortychars\n",
    "    #selfinput\n",
    "    #pythontwo\n",
    "\n",
    "    chars = \"\"\n",
    "    from fileinput import input\n",
    "    for line in input():\n",
    "        chars += line\n",
    "    b = 1 / 1\n",
    "\n",
    "    for i in range(len(chars)):\n",
    "        if i == b * b * b:\n",
    "            print chars[i] #prints\n",
    "            b += 1 / 1"
   ]
  },
  {
   "cell_type": "code",
   "execution_count": 9,
   "metadata": {},
   "outputs": [
    {
     "name": "stdout",
     "output_type": "stream",
     "text": [
      "adlibs\n"
     ]
    }
   ],
   "source": [
    "#asciiorder\n",
    "#fortychars\n",
    "#selfinput\n",
    "#pythontwo\n",
    "\n",
    "#read the txt file\n",
    "with open('texto.txt', 'r') as file:\n",
    "    chars = file.read()\n",
    "b = 1 / 1\n",
    "\n",
    "decoded_str = \"\"\n",
    "\n",
    "for i in range(len(chars)):\n",
    "    if i == b * b * b:\n",
    "        decoded_str += chars[i]\n",
    "        b += 1 / 1\n",
    "print(decoded_str)"
   ]
  },
  {
   "cell_type": "markdown",
   "metadata": {},
   "source": [
    "Thus, the solved flag would be: **picoCTF{adlibs}**"
   ]
  },
  {
   "cell_type": "markdown",
   "metadata": {},
   "source": [
    "### Option 2:\n",
    "\n",
    "For this problem, we have to invert the process of encryption that we had in the ```convert.py``` file, and then we have this output.\n",
    "\n",
    "```python\n",
    "#asciiorder\n",
    "#fortychars\n",
    "#selfinput\n",
    "#pythontwo\n",
    "\n",
    "chars = \"\"\n",
    "from fileinput import input\n",
    "for line in input():\n",
    "chars += line\n",
    "b = 1 / 1\n",
    "\n",
    "for i in range(len(chars)):\n",
    "if i == b * b * b:\n",
    "print chars[i] #prints\n",
    "b += 1 / 1\n",
    "```\n",
    "\n",
    "As we can see in the output are different comments as ```#selfinput``` and ```#pythontwo``` that give us a notion of what we have to do with this code. I modified the script so I can have the flag in one script. I deleted this part because I am not going to use the terminal.\n",
    "```python\n",
    "from fileinput import input\n",
    "for line in input():\n",
    "chars += line\n",
    "```\n",
    "\n",
    "So I passed the output of the last script to this new and gave me the flag that was ```adlibs```"
   ]
  },
  {
   "cell_type": "code",
   "execution_count": 1,
   "metadata": {},
   "outputs": [
    {
     "name": "stdout",
     "output_type": "stream",
     "text": [
      "#asciiorder\n",
      "#fortychars\n",
      "#selfinput\n",
      "#pythontwo\n",
      "\n",
      "chars = \"\"\n",
      "from fileinput import input\n",
      "for line in input():\n",
      "    chars += line\n",
      "b = 1 / 1\n",
      "\n",
      "for i in range(len(chars)):\n",
      "    if i == b * b * b:\n",
      "        print chars[i] #prints\n",
      "        b += 1 / 1\n",
      "\n",
      "a\n",
      "d\n",
      "l\n",
      "i\n",
      "b\n",
      "s\n"
     ]
    }
   ],
   "source": [
    "lookup1 = \"\\n \\\"#()*+/1:=[]abcdefghijklmnopqrstuvwxyz\"\n",
    "lookup2 = \"ABCDEFGHIJKLMNOPQRSTabcdefghijklmnopqrst\"\n",
    "\n",
    "ciphertext = \"DLSeGAGDgBNJDQJDCFSFnRBIDjgHoDFCFtHDgJpiHtGDmMAQFnRBJKkBAsTMrsPSDDnEFCFtIbEDtDCIbFCFtHTJDKerFldbFObFCFtLBFkBAAAPFnRBJGEkerFlcPgKkImHnIlATJDKbTbFOkdNnsgbnJRMFnRBNAFkBAAAbrcbTKAkOgFpOgFpOpkBAAAAAAAiClFGIPFnRBaKliCgClFGtIBAAAAAAAOgGEkImHnIl\"\n",
    "\n",
    "out = \"\"\n",
    "prev = 0\n",
    "\n",
    "for char in ciphertext:\n",
    "    new_lookup2  = lookup2.index(char)\n",
    "    cur = (new_lookup2 + prev) % 40\n",
    "    text = lookup1[cur]\n",
    "    out += text\n",
    "    prev = cur\n",
    "\n",
    "print(out)\n",
    "\n",
    "chars = out\n",
    "b = 1 / 1\n",
    "\n",
    "for i in range(len(chars)):\n",
    "    if i == b * b * b:\n",
    "        print(chars[i])#prints\n",
    "        b += 1 / 1"
   ]
  },
  {
   "cell_type": "markdown",
   "metadata": {},
   "source": [
    "# 4. Custom Encoder"
   ]
  },
  {
   "cell_type": "markdown",
   "metadata": {},
   "source": [
    "### Option 1"
   ]
  },
  {
   "cell_type": "code",
   "execution_count": 14,
   "metadata": {},
   "outputs": [],
   "source": [
    "from random import randint\n",
    "import sys\n",
    "\n",
    "\n",
    "def generator(g, x, p):\n",
    "    return pow(g, x) % p\n",
    "\n",
    "\n",
    "def encrypt(plaintext, key):\n",
    "    cipher = []\n",
    "    for char in plaintext:\n",
    "        cipher.append(((ord(char) * key*311)))\n",
    "    return cipher\n",
    "\n",
    "\n",
    "def is_prime(p):\n",
    "    v = 0\n",
    "    for i in range(2, p + 1):\n",
    "        if p % i == 0:\n",
    "            v = v + 1\n",
    "    if v > 1:\n",
    "        return False\n",
    "    else:\n",
    "        return True\n",
    "\n",
    "\n",
    "def dynamic_xor_encrypt(plaintext, text_key):\n",
    "    cipher_text = \"\"\n",
    "    key_length = len(text_key)\n",
    "    for i, char in enumerate(plaintext[::-1]):\n",
    "        key_char = text_key[i % key_length]\n",
    "        encrypted_char = chr(ord(char) ^ ord(key_char))\n",
    "        cipher_text += encrypted_char\n",
    "    return cipher_text\n",
    "\n",
    "\n",
    "def test(plain_text, text_key):\n",
    "    p = 97\n",
    "    g = 31\n",
    "    if not is_prime(p) and not is_prime(g):\n",
    "        print(\"Enter prime numbers\")\n",
    "        return\n",
    "    a = randint(p-10, p)\n",
    "    b = randint(g-10, g)\n",
    "    print(f\"a = {a}\")\n",
    "    print(f\"b = {b}\")\n",
    "    u = generator(g, a, p)\n",
    "    v = generator(g, b, p)\n",
    "    key = generator(v, a, p)\n",
    "    b_key = generator(u, b, p)\n",
    "    shared_key = None\n",
    "    if key == b_key:\n",
    "        shared_key = key\n",
    "    else:\n",
    "        print(\"Invalid key\")\n",
    "        return\n",
    "    semi_cipher = dynamic_xor_encrypt(plain_text, text_key)\n",
    "    cipher = encrypt(semi_cipher, shared_key)\n",
    "    print(f'cipher is: {cipher}')"
   ]
  },
  {
   "cell_type": "code",
   "execution_count": 15,
   "metadata": {},
   "outputs": [
    {
     "name": "stdout",
     "output_type": "stream",
     "text": [
      "--f=/Users/alexperez/Library/Jupyter/runtime/kernel-v33e1d1b05c7fcad13ad12ee7b5da036ec1ff40011.json\n",
      "a = 97\n",
      "b = 24\n",
      "cipher is: [776256, 865824, 179136, 417984, 2239200, 2388480, 2030208, 2030208, 1970496, 1940640, 59712, 89568, 2388480, 656832, 507552, 2030208, 2089920, 2507904, 119424, 149280, 1910784, 656832, 2060064, 477696, 29856, 2597472, 2388480, 507552, 626976, 1940640, 2030208, 0, 119424, 59712, 567264, 2000352, 507552, 1910784, 2507904, 208992, 2388480, 507552, 2060064, 686688, 2089920, 2597472, 567264, 2269056, 746400, 507552, 835968, 208992, 29856, 417984, 2328768, 477696, 746400, 806112, 29856, 298560, 477696, 567264, 2687040, 179136, 686688, 29856, 865824, 626976, 597120, 1880928, 2716896, 328416, 208992, 149280, 686688, 89568, 835968, 1671936, 2776608, 447840, 29856, 686688, 119424, 149280, 358272, 686688, 746400, 149280, 2209344, 537408, 208992, 507552, 29856, 955392, 2239200, 2627328, 208992, 2627328, 2657184]\n"
     ]
    }
   ],
   "source": [
    "message = sys.argv[1]\n",
    "print(message)\n",
    "test(message, \"trudeau\")"
   ]
  },
  {
   "cell_type": "markdown",
   "metadata": {},
   "source": [
    "After understanding how this encoder works, it is possible to try to use the encrypted flag and reverse the encoding process"
   ]
  },
  {
   "cell_type": "markdown",
   "metadata": {},
   "source": [
    "Encrypted message:\n",
    "\n",
    "```\n",
    "a = 94\n",
    "b = 21\n",
    "cipher is: [131553, 993956, 964722, 1359381, 43851, 1169360, 950105, 321574, 1081658, 613914, 0, 1213211, 306957, 73085, 993956, 0, 321574, 1257062, 14617, 906254, 350808, 394659, 87702, 87702, 248489, 87702, 380042, 745467, 467744, 716233, 380042, 102319, 175404, 248489]\n",
    "```"
   ]
  },
  {
   "cell_type": "markdown",
   "metadata": {},
   "source": [
    "Process in order to obtain the key (we know a, b, p and g):"
   ]
  },
  {
   "cell_type": "code",
   "execution_count": 51,
   "metadata": {},
   "outputs": [
    {
     "name": "stdout",
     "output_type": "stream",
     "text": [
      "47\n"
     ]
    }
   ],
   "source": [
    "u = generator(31, 94, 97)\n",
    "v = generator(31, 21, 97)\n",
    "key = generator(v, 94, 97)\n",
    "b_key = generator(u, 21, 97)\n",
    "shared_key = None\n",
    "if key == b_key:\n",
    "    shared_key = key\n",
    "else:\n",
    "    print(\"Invalid key\")\n",
    "\n",
    "print(key)"
   ]
  },
  {
   "cell_type": "markdown",
   "metadata": {},
   "source": [
    "Using the given encrypted message as a string:"
   ]
  },
  {
   "cell_type": "code",
   "execution_count": 26,
   "metadata": {},
   "outputs": [
    {
     "name": "stdout",
     "output_type": "stream",
     "text": [
      "['131553', '993956', '964722', '1359381', '43851', '1169360', '950105', '321574', '1081658', '613914', '0', '1213211', '306957', '73085', '993956', '0', '321574', '1257062', '14617', '906254', '350808', '394659', '87702', '87702', '248489', '87702', '380042', '745467', '467744', '716233', '380042', '102319', '175404', '248489']\n",
      "34\n"
     ]
    }
   ],
   "source": [
    "s = \"131553, 993956, 964722, 1359381, 43851, 1169360, 950105, 321574, 1081658, 613914, 0, 1213211, 306957, 73085, 993956, 0, 321574, 1257062, 14617, 906254, 350808, 394659, 87702, 87702, 248489, 87702, 380042, 745467, 467744, 716233, 380042, 102319, 175404, 248489\"\n",
    "s = s.split(\", \")\n",
    "print(s)\n",
    "print(len(s))"
   ]
  },
  {
   "cell_type": "code",
   "execution_count": 28,
   "metadata": {},
   "outputs": [
    {
     "name": "stdout",
     "output_type": "stream",
     "text": [
      "[131553, 993956, 964722, 1359381, 43851, 1169360, 950105, 321574, 1081658, 613914, 0, 1213211, 306957, 73085, 993956, 0, 321574, 1257062, 14617, 906254, 350808, 394659, 87702, 87702, 248489, 87702, 380042, 745467, 467744, 716233, 380042, 102319, 175404, 248489]\n"
     ]
    }
   ],
   "source": [
    "w = []\n",
    "for i in s:\n",
    "    w.append(int(i))\n",
    "\n",
    "print(w)"
   ]
  },
  {
   "cell_type": "markdown",
   "metadata": {},
   "source": [
    "Reversing the `encrypt` function:"
   ]
  },
  {
   "cell_type": "code",
   "execution_count": 42,
   "metadata": {},
   "outputs": [
    {
     "name": "stdout",
     "output_type": "stream",
     "text": [
      "['\\t', 'D', 'B', ']', '\\x03', 'P', 'A', '\\x16', 'J', '*', '\\x00', 'S', '\\x15', '\\x05', 'D', '\\x00', '\\x16', 'V', '\\x01', '>', '\\x18', '\\x1b', '\\x06', '\\x06', '\\x11', '\\x06', '\\x1a', '3', ' ', '1', '\\x1a', '\\x07', '\\x0c', '\\x11']\n",
      "34\n"
     ]
    }
   ],
   "source": [
    "key = 47\n",
    "\n",
    "def dencrypt(number, k):\n",
    "    dcipher = number//311\n",
    "    dcipher = dcipher//k\n",
    "    dcipher2 = chr(dcipher)\n",
    "    return dcipher2\n",
    "\n",
    "j = 0\n",
    "semi_result = []\n",
    "for i in w:\n",
    "    semi_result.append(dencrypt(i, key))\n",
    "    j += 1\n",
    "print(semi_result)\n",
    "print(j)"
   ]
  },
  {
   "cell_type": "markdown",
   "metadata": {},
   "source": [
    "Reversing the `dynamic_xor_encrypt` function:"
   ]
  },
  {
   "cell_type": "code",
   "execution_count": 50,
   "metadata": {},
   "outputs": [
    {
     "name": "stdout",
     "output_type": "stream",
     "text": [
      "Decrypted message: picoCTF{custom_d2cr0pt6d_8b41f976}\n"
     ]
    }
   ],
   "source": [
    "semi_result_string = \"\".join(semi_result)\n",
    "text_key = \"trudeau\"\n",
    "\n",
    "def dynamic_xor_dencrypt(plaintext, text_key):\n",
    "    dcipher_text = \"\"\n",
    "    key_length = len(text_key)\n",
    "    for i, char in enumerate(plaintext):\n",
    "        key_char = text_key[i % key_length]\n",
    "        dencrypted_char = chr(ord(char) ^ ord(key_char))\n",
    "        dcipher_text += dencrypted_char\n",
    "    return dcipher_text\n",
    "\n",
    "decrypted_message = dynamic_xor_dencrypt(semi_result_string, text_key)\n",
    "final_decrypted_message = decrypted_message[::-1]\n",
    "print(f\"Decrypted message: {final_decrypted_message}\")"
   ]
  },
  {
   "cell_type": "markdown",
   "metadata": {},
   "source": [
    "### Option 2\n",
    "\n",
    "This solution uses brute force to get the correct shared key, and instead of using the generators that we had in the first solution, we could try different shared keys in a range of 1 to 100. The logic is the same: first we have to decrypt partially with the different shared keys, and after that we use the dynamic XOR decrypt. Finally,  we have to observe which one of the solutions is the decrypt text."
   ]
  },
  {
   "cell_type": "code",
   "execution_count": 2,
   "metadata": {},
   "outputs": [
    {
     "name": "stdout",
     "output_type": "stream",
     "text": [
      "Clave: 1, Mensaje: ­õ0ōȾǴȑř-¨=:İŕʉiѬŽr̈́I΁dƍźŠ͹сеΨ̽̊\u0018\n",
      "Clave: 2, Mensaje: \u0007-NéŔ´ŇýA\u0002QVÖåĕcɠñrǬk\u001fƗdöþǳɱɍƂǑǎB\n",
      "Clave: 3, Mensaje: %Ux\u001d¶ô¹\t} mj\u0018\u0015aļ-rŤa5ĩdÝ*(űāĕĠŭŚP\n",
      "Clave: 4, Mensaje: RAq;á\u0014ì/wWg`%=ÛfŦ7r¸z^d\u000b01¶ũű§¬o\n",
      "Clave: 5, Mensaje: IytK\u00078\u000f_kL{|4LõgªAr×yS¢d\u0011FCé²¹¦ÝÃa\n",
      "Clave: 6, Mensaje: C}jA\u00104\u0013UiFy~BE\u001dgÈYrüKÃd!^Z÷ÑÝÆùæf\n",
      "\f{ave: 7, Mensaje: |qhY&B\"MoyxZ\\\u000bd÷Pr\u0000}Eëd=WS\u001a÷øî\n",
      "Clave: 8, Mensaje: xwnR;D9Fl}|{\\Q<dåTr\u0012r~\u0019dJSV\u0014åï\u001d\u001c\u001dy\n",
      "Clave: 9, Mensaje: wumW3^1Cmr}zPU3d\u0016hr.s}\u000bdMoj#\u0014(\u0010x\n",
      "Clave: 10, Mensaje: ukljHRH~bpruTi+d\u0003or%sx\u0006dGho\u000b\u0005!*~\n",
      "Clave: 11, Mensaje: shciGVB}cvstio\"d9mr>pw?dXjm3\u0001\u0001<9\"}\n",
      "Clave: 12, Mensaje: picoCTF{custom_d2cr0pt6d_dc499538}\n",
      "Clave: 13, Mensaje: nnbm_iZy`kpwlcXe+arJqr)dSfaI01.56|\n",
      "Clave: 14, Mensaje: oobcXo^w`jpwcaTe-grNqs\"dQ`gB*+!IMs\n",
      "Clave: 15, Mensaje: llaaUm]uaiqvafPe drBqq'dTcfA',$MIs\n"
     ]
    }
   ],
   "source": [
    "def dynamic_xor_decrypt(cipher_text, text_key):\n",
    "    key_length = len(text_key)\n",
    "    decrypted_text = \"\"\n",
    "    for i, char in enumerate(cipher_text):\n",
    "        key_char = text_key[i % key_length]\n",
    "        decrypted_char = chr(ord(char) ^ ord(key_char))\n",
    "        decrypted_text = decrypted_char + decrypted_text\n",
    "    return decrypted_text\n",
    "\n",
    "def decrypt(cipher, shared_key):\n",
    "    decrypted_chars = []\n",
    "    for value in cipher:\n",
    "        if value == 0:\n",
    "            decrypted_chars.append(chr(0))  \n",
    "        else:\n",
    "            decrypted_value = value // (shared_key * 311)\n",
    "            decrypted_chars.append(chr(decrypted_value))\n",
    "    return ''.join(decrypted_chars)\n",
    "\n",
    "def brute_force_decrypt(cipher):\n",
    "    for shared_key in range(1, 16): \n",
    "        try:\n",
    "            semi_decrypted = decrypt(cipher, shared_key)\n",
    "            final_decrypted_message = dynamic_xor_decrypt(semi_decrypted, \"trudeau\")\n",
    "            print(f\"Clave: {shared_key}, Mensaje: {final_decrypted_message}\")\n",
    "        except:\n",
    "            continue \n",
    "\n",
    "cipher = [33588, 276168, 261240, 302292, 343344, 328416, 242580, 85836, 82104, 156744, 0, 309756, 78372, 18660, 253776, 0, 82104, 320952, 3732, 231384, 89568, 100764, 22392, 22392, 63444, 22392, 97032, 190332, 119424, 182868, 97032, 26124, 44784, 63444]\n",
    "\n",
    "brute_force_decrypt(cipher)"
   ]
  },
  {
   "cell_type": "markdown",
   "metadata": {},
   "source": [
    "# 5. Rotation"
   ]
  },
  {
   "cell_type": "markdown",
   "metadata": {},
   "source": [
    "### Option 1"
   ]
  },
  {
   "cell_type": "markdown",
   "metadata": {},
   "source": [
    "Since the problem hint us to use rotation, and by looking at the cipher text given, we can try by using caesar cypher once again:"
   ]
  },
  {
   "cell_type": "code",
   "execution_count": 53,
   "metadata": {},
   "outputs": [
    {
     "name": "stdout",
     "output_type": "stream",
     "text": [
      "Shift 0: xqkwKBN{z0bib1wv_l3kzgxb3l_429in00n}\n",
      "Shift 1: wpjvJAM{y0aha1vu_k3jyfwa3k_429hm00m}\n",
      "Shift 2: voiuIZL{x0zgz1ut_j3ixevz3j_429gl00l}\n",
      "Shift 3: unhtHYK{w0yfy1ts_i3hwduy3i_429fk00k}\n",
      "Shift 4: tmgsGXJ{v0xex1sr_h3gvctx3h_429ej00j}\n",
      "Shift 5: slfrFWI{u0wdw1rq_g3fubsw3g_429di00i}\n",
      "Shift 6: rkeqEVH{t0vcv1qp_f3etarv3f_429ch00h}\n",
      "Shift 7: qjdpDUG{s0ubu1po_e3dszqu3e_429bg00g}\n",
      "Shift 8: picoCTF{r0tat1on_d3crypt3d_429af00f}\n",
      "Shift 9: ohbnBSE{q0szs1nm_c3bqxos3c_429ze00e}\n",
      "Shift 10: ngamARD{p0ryr1ml_b3apwnr3b_429yd00d}\n",
      "Shift 11: mfzlZQC{o0qxq1lk_a3zovmq3a_429xc00c}\n",
      "Shift 12: leykYPB{n0pwp1kj_z3ynulp3z_429wb00b}\n",
      "Shift 13: kdxjXOA{m0ovo1ji_y3xmtko3y_429va00a}\n",
      "Shift 14: jcwiWNZ{l0nun1ih_x3wlsjn3x_429uz00z}\n",
      "Shift 15: ibvhVMY{k0mtm1hg_w3vkrim3w_429ty00y}\n",
      "Shift 16: haugULX{j0lsl1gf_v3ujqhl3v_429sx00x}\n",
      "Shift 17: gztfTKW{i0krk1fe_u3tipgk3u_429rw00w}\n",
      "Shift 18: fyseSJV{h0jqj1ed_t3shofj3t_429qv00v}\n",
      "Shift 19: exrdRIU{g0ipi1dc_s3rgnei3s_429pu00u}\n",
      "Shift 20: dwqcQHT{f0hoh1cb_r3qfmdh3r_429ot00t}\n",
      "Shift 21: cvpbPGS{e0gng1ba_q3pelcg3q_429ns00s}\n",
      "Shift 22: buoaOFR{d0fmf1az_p3odkbf3p_429mr00r}\n",
      "Shift 23: atnzNEQ{c0ele1zy_o3ncjae3o_429lq00q}\n",
      "Shift 24: zsmyMDP{b0dkd1yx_n3mbizd3n_429kp00p}\n",
      "Shift 25: yrlxLCO{a0cjc1xw_m3lahyc3m_429jo00o}\n"
     ]
    }
   ],
   "source": [
    "new_cipher_text = \"xqkwKBN{z0bib1wv_l3kzgxb3l_429in00n}\"\n",
    "\n",
    "# we try all possible shifts\n",
    "for shift in range(26):\n",
    "    decrypted_message = caesar_decrypt(new_cipher_text, shift)\n",
    "    print(f\"Shift {shift}: {decrypted_message}\")"
   ]
  },
  {
   "cell_type": "markdown",
   "metadata": {},
   "source": [
    "**Shift number 8 gives us the plain text**: picoCTF{r0tat1on_d3crypt3d_429af00f}"
   ]
  },
  {
   "cell_type": "markdown",
   "metadata": {},
   "source": [
    "### Option 2\n",
    "\n",
    "Once again, we can solve this problem by using just a web page, and the fact that the shift is 8\n",
    "\n",
    "https://cryptii.com/pipes/caesar-cipher (website used) \n",
    "\n",
    "<img src=\"img/4.png\" alt=\"Texto alternativo\" width=\"1000\" height=\"300\">"
   ]
  },
  {
   "cell_type": "code",
   "execution_count": null,
   "metadata": {},
   "outputs": [],
   "source": []
  }
 ],
 "metadata": {
  "kernelspec": {
   "display_name": "base",
   "language": "python",
   "name": "python3"
  },
  "language_info": {
   "codemirror_mode": {
    "name": "ipython",
    "version": 3
   },
   "file_extension": ".py",
   "mimetype": "text/x-python",
   "name": "python",
   "nbconvert_exporter": "python",
   "pygments_lexer": "ipython3",
   "version": "3.9.19"
  }
 },
 "nbformat": 4,
 "nbformat_minor": 2
}
