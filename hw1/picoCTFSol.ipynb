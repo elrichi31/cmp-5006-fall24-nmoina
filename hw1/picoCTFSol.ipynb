{
 "cells": [
  {
   "cell_type": "markdown",
   "metadata": {},
   "source": [
    "# Problem 1 interencdec"
   ]
  },
  {
   "cell_type": "markdown",
   "metadata": {},
   "source": [
    "# Solution 1\n",
    "For this solution, I used a decryption on base64 because, at the end of the encrypted text, I saw a typical pattern of this type of encryption, which is the use of ```==```, then after decoding the text, I got this text. ```b'd3BqdkpBTXtqaGx6aHlfazNqeTl3YTNrXzc4MjUwaG1qfQ=='``` After seeing this text, I knew that it was the same encoded base64, and I repeated the same process again. After that, I got this text ```wpjvJAM{jhlzhy_k3jy9wa3k_78250hmj}```, and it looked like a rotation encryption or cesar cipher. I tried both of them, and it was a cesar cipher, and after brute force the shift, I got the flag"
   ]
  },
  {
   "cell_type": "code",
   "execution_count": 29,
   "metadata": {},
   "outputs": [
    {
     "name": "stdout",
     "output_type": "stream",
     "text": [
      "b'd3BqdkpBTXtqaGx6aHlfazNqeTl3YTNrXzc4MjUwaG1qfQ=='\n",
      "\n"
     ]
    }
   ],
   "source": [
    "import base64\n",
    "\n",
    "encoded_string = \"YidkM0JxZGtwQlRYdHFhR3g2YUhsZmF6TnFlVGwzWVROclh6YzRNalV3YUcxcWZRPT0nCg==\"\n",
    "\n",
    "decoded_bytes = base64.b64decode(encoded_string)\n",
    "decoded_string = decoded_bytes.decode('utf-8')\n",
    "\n",
    "print(decoded_string)"
   ]
  },
  {
   "cell_type": "code",
   "execution_count": 31,
   "metadata": {},
   "outputs": [
    {
     "name": "stdout",
     "output_type": "stream",
     "text": [
      "wpjvJAM{jhlzhy_k3jy9wa3k_78250hmj}\n"
     ]
    }
   ],
   "source": [
    "second_encoded_string = \"d3BqdkpBTXtqaGx6aHlfazNqeTl3YTNrXzc4MjUwaG1qfQ==\"\n",
    "\n",
    "second_decoded_bytes = base64.b64decode(second_encoded_string)\n",
    "second_decoded_string = second_decoded_bytes.decode('utf-8')\n",
    "print(second_decoded_string)"
   ]
  },
  {
   "cell_type": "markdown",
   "metadata": {},
   "source": [
    "## Solution 2\n",
    "For this solution I used differentes web pages to decode de base64, the web page was https://www.base64decode.org/\n"
   ]
  },
  {
   "cell_type": "markdown",
   "metadata": {},
   "source": [
    "<img src=\"img/img2.png\" alt=\"Texto alternativo\" width=\"500\" height=\"300\">\n",
    "\n",
    "<img src=\"img/img1.png\" alt=\"Texto alternativo\" width=\"500\" height=\"300\">\n"
   ]
  },
  {
   "cell_type": "markdown",
   "metadata": {},
   "source": [
    "After get the decoded text I used a different web page for decrypt https://cryptii.com/pipes/rot13-decoder"
   ]
  },
  {
   "cell_type": "markdown",
   "metadata": {},
   "source": [
    "<img src=\"img/img3.png\" alt=\"Texto alternativo\" width=\"1100\" height=\"300\">\n"
   ]
  },
  {
   "cell_type": "markdown",
   "metadata": {},
   "source": [
    "# Problem 2 The Numbers\t\n"
   ]
  },
  {
   "cell_type": "markdown",
   "metadata": {},
   "source": [
    "## Solution 1\n",
    "As we can see in the image, we have different numbers. We transform those numbers into an array, and we could try to pair those numbers with the alphabet, saying that 1 is A, 2 is B, etc."
   ]
  },
  {
   "cell_type": "code",
   "execution_count": 32,
   "metadata": {},
   "outputs": [
    {
     "name": "stdout",
     "output_type": "stream",
     "text": [
      "PICOCTFTHENUMBERSMASON\n"
     ]
    }
   ],
   "source": [
    "def decode_numbers(numbers):\n",
    "    alphabet = \"ABCDEFGHIJKLMNOPQRSTUVWXYZ\"\n",
    "    decoded_message = []\n",
    "    \n",
    "    for number in numbers:\n",
    "        if 1 <= number <= 26:\n",
    "            decoded_message.append(alphabet[number - 1])\n",
    "    \n",
    "    return \"\".join(decoded_message)\n",
    "\n",
    "numbers = [16, 9, 3, 15, 3, 20, 6, 123, 20, 8, 5, 14, 21, 13, 2, 5, 18, 19, 13, 1, 19, 15, 14, 125]\n",
    "\n",
    "decoded_message = decode_numbers(numbers)\n",
    "print(decoded_message)\n"
   ]
  },
  {
   "cell_type": "markdown",
   "metadata": {},
   "source": [
    "## Solution 2\n",
    "For this solution, we only use ASCII codes; we only have to add 64 to the numbers in the array, and we also have the same solution."
   ]
  },
  {
   "cell_type": "code",
   "execution_count": 33,
   "metadata": {},
   "outputs": [
    {
     "name": "stdout",
     "output_type": "stream",
     "text": [
      "PICOCTF{THENUMBERSMASON}\n"
     ]
    }
   ],
   "source": [
    "def decode_using_ascii(numbers):\n",
    "    decoded_message = []\n",
    "    \n",
    "    for number in numbers:\n",
    "        if 1 <= number <= 26:\n",
    "            decoded_message.append(chr(number + 64))\n",
    "        else:\n",
    "            decoded_message.append(chr(number))\n",
    "    \n",
    "    return \"\".join(decoded_message)\n",
    "\n",
    "numbers = [16, 9, 3, 15, 3, 20, 6, 123, 20, 8, 5, 14, 21, 13, 2, 5, 18, 19, 13, 1, 19, 15, 14, 125]\n",
    "\n",
    "decoded_message = decode_using_ascii(numbers)\n",
    "print(decoded_message)\n"
   ]
  },
  {
   "cell_type": "markdown",
   "metadata": {},
   "source": [
    "# Problem 3 C3\n",
    "For this problem, we have to invert the process of encryption that we had in the ```convert.py``` file, and then we have this output.\n",
    "\n",
    "```python\n",
    "#asciiorder\n",
    "#fortychars\n",
    "#selfinput\n",
    "#pythontwo\n",
    "\n",
    "chars = \"\"\n",
    "from fileinput import input\n",
    "for line in input():\n",
    "chars += line\n",
    "b = 1 / 1\n",
    "\n",
    "for i in range(len(chars)):\n",
    "if i == b * b * b:\n",
    "print chars[i] #prints\n",
    "b += 1 / 1\n",
    "```\n",
    "\n",
    "As we can see in the output are different comments as ```#selfinput``` and ```#pythontwo``` that give us a notion of what we have to do with this code. I modified the script so I can have the flag in one script. I deleted this part because I am not going to use the terminal.\n",
    "```python\n",
    "from fileinput import input\n",
    "for line in input():\n",
    "chars += line\n",
    "```\n",
    "\n",
    "So I passed the output of the last script to this new and gave me the flag that was ```adlibs```"
   ]
  },
  {
   "cell_type": "code",
   "execution_count": 34,
   "metadata": {},
   "outputs": [
    {
     "name": "stdout",
     "output_type": "stream",
     "text": [
      "#asciiorder\n",
      "#fortychars\n",
      "#selfinput\n",
      "#pythontwo\n",
      "\n",
      "chars = \"\"\n",
      "from fileinput import input\n",
      "for line in input():\n",
      "    chars += line\n",
      "b = 1 / 1\n",
      "\n",
      "for i in range(len(chars)):\n",
      "    if i == b * b * b:\n",
      "        print chars[i] #prints\n",
      "        b += 1 / 1\n",
      "\n",
      "a\n",
      "d\n",
      "l\n",
      "i\n",
      "b\n",
      "s\n"
     ]
    }
   ],
   "source": [
    "lookup1 = \"\\n \\\"#()*+/1:=[]abcdefghijklmnopqrstuvwxyz\"\n",
    "lookup2 = \"ABCDEFGHIJKLMNOPQRSTabcdefghijklmnopqrst\"\n",
    "\n",
    "ciphertext = \"DLSeGAGDgBNJDQJDCFSFnRBIDjgHoDFCFtHDgJpiHtGDmMAQFnRBJKkBAsTMrsPSDDnEFCFtIbEDtDCIbFCFtHTJDKerFldbFObFCFtLBFkBAAAPFnRBJGEkerFlcPgKkImHnIlATJDKbTbFOkdNnsgbnJRMFnRBNAFkBAAAbrcbTKAkOgFpOgFpOpkBAAAAAAAiClFGIPFnRBaKliCgClFGtIBAAAAAAAOgGEkImHnIl\"\n",
    "\n",
    "out = \"\"\n",
    "prev = 0\n",
    "\n",
    "for char in ciphertext:\n",
    "    new_lookup2  = lookup2.index(char)\n",
    "    cur = (new_lookup2 + prev) % 40\n",
    "    text = lookup1[cur]\n",
    "    out += text\n",
    "    prev = cur\n",
    "\n",
    "print(out)\n",
    "\n",
    "chars = out\n",
    "b = 1 / 1\n",
    "\n",
    "for i in range(len(chars)):\n",
    "    if i == b * b * b:\n",
    "        print(chars[i])#prints\n",
    "        b += 1 / 1\n"
   ]
  },
  {
   "cell_type": "markdown",
   "metadata": {},
   "source": [
    "# Problem 4: Custom encryption\n",
    "## Solution 1\n",
    "This solution uses the exact inverse process of encryption; as we know, we have the a and b values, and looking into the code, we extract the key ```trudeau```.\n",
    "\n",
    "First we calculate the shared key value: In the code that we have, the value of the key is calculated using the function ```generator(g, x, p)``` using the prime values of ```p=97``` and ```g=31```\n",
    "\n",
    "Second, we have to make the decryption of the multiplication; as we saw in the code, the multiplication formula is ```ord(char) * shared_key * 311``` To get the ASCII values with the original characters, we have to divide each one of the cipher numbers by ```shared_key * 311```\n",
    "\n",
    "Finally, after obtaining the ASCII values of the characters, we need to apply the inverse function of the dinamic XOR that was used to encrypt. The function ```dynamic_xor_decrypt``` takes the cipher text and makes an XOR operation between each character using the key ```trudeau```"
   ]
  },
  {
   "cell_type": "code",
   "execution_count": 35,
   "metadata": {},
   "outputs": [
    {
     "name": "stdout",
     "output_type": "stream",
     "text": [
      "Clave compartida: 12\n",
      "Mensaje semi-descifrado: \tJFQ\\XA\u0017\u0016*\u0000S\u0015\u0005D\u0000\u0016V\u0001>\u0018\u001b\u0006\u0006\u0011\u0006\u001a3 1\u001a\u0007\f\u0011\n",
      "Mensaje descifrado: picoCTF{custom_d2cr0pt6d_dc499538}\n"
     ]
    }
   ],
   "source": [
    "def generator(g, x, p):\n",
    "    return pow(g, x, p)\n",
    "\n",
    "def dynamic_xor_decrypt(cipher_text, text_key):\n",
    "    key_length = len(text_key)\n",
    "    decrypted_text = \"\"\n",
    "    for i, char in enumerate(cipher_text):\n",
    "        key_char = text_key[i % key_length]\n",
    "        decrypted_char = chr(ord(char) ^ ord(key_char))\n",
    "        decrypted_text = decrypted_char + decrypted_text\n",
    "    return decrypted_text\n",
    "\n",
    "def decrypt(cipher, shared_key):\n",
    "    decrypted_chars = []\n",
    "    for value in cipher:\n",
    "        if value == 0:\n",
    "            decrypted_chars.append(chr(0))\n",
    "        else:\n",
    "            decrypted_value = value // (shared_key * 311)\n",
    "            decrypted_chars.append(chr(decrypted_value))\n",
    "    return ''.join(decrypted_chars)\n",
    "\n",
    "p = 97\n",
    "g = 31\n",
    "a = 89\n",
    "b = 27\n",
    "\n",
    "u = generator(g, a, p)\n",
    "v = generator(g, b, p)\n",
    "shared_key = generator(v, a, p)\n",
    "print(f\"Clave compartida: {shared_key}\")\n",
    "\n",
    "cipher = [33588, 276168, 261240, 302292, 343344, 328416, 242580, 85836, 82104, 156744, 0, 309756, 78372, 18660, 253776, 0, 82104, 320952, 3732, 231384, 89568, 100764, 22392, 22392, 63444, 22392, 97032, 190332, 119424, 182868, 97032, 26124, 44784, 63444]\n",
    "\n",
    "semi_decrypted = decrypt(cipher, shared_key)\n",
    "print(f\"Mensaje semi-descifrado: {semi_decrypted}\")\n",
    "\n",
    "final_decrypted_message = dynamic_xor_decrypt(semi_decrypted, \"trudeau\")\n",
    "\n",
    "print(f\"Mensaje descifrado: {final_decrypted_message}\")\n"
   ]
  },
  {
   "cell_type": "markdown",
   "metadata": {},
   "source": [
    "## Solution 2\n",
    "\n",
    "This solution uses brute force to get the correct shared key, and instead of using the generators that we had in the first solution, we could try different shared keys in a range of 1 to 100. The logic is the same: first we have to decrypt partially with the different shared keys, and after that we use the dynamic XOR decrypt. Finally,  we have to observe which one of the solutions is the decrypt text."
   ]
  },
  {
   "cell_type": "code",
   "execution_count": 36,
   "metadata": {},
   "outputs": [
    {
     "name": "stdout",
     "output_type": "stream",
     "text": [
      "Clave: 1, Mensaje: ­õ0ōȾǴȑř-¨=:İŕʉiѬŽr̈́I΁dƍźŠ͹сеΨ̽̊\u0018\n",
      "Clave: 2, Mensaje: \u0007-NéŔ´ŇýA\u0002QVÖåĕcɠñrǬk\u001fƗdöþǳɱɍƂǑǎB\n",
      "Clave: 3, Mensaje: %Ux\u001d¶ô¹\t} mj\u0018\u0015aļ-rŤa5ĩdÝ*(űāĕĠŭŚP\n",
      "Clave: 4, Mensaje: RAq;á\u0014ì/wWg`%=ÛfŦ7r¸z^d\u000b01¶ũű§¬o\n",
      "Clave: 5, Mensaje: IytK\u00078\u000f_kL{|4LõgªAr×yS¢d\u0011FCé²¹¦ÝÃa\n",
      "Clave: 6, Mensaje: C}jA\u00104\u0013UiFy~BE\u001dgÈYrüKÃd!^Z÷ÑÝÆùæf\n",
      "\f{ave: 7, Mensaje: |qhY&B\"MoyxZ\\\u000bd÷Pr\u0000}Eëd=WS\u001a÷øî\n",
      "Clave: 8, Mensaje: xwnR;D9Fl}|{\\Q<dåTr\u0012r~\u0019dJSV\u0014åï\u001d\u001c\u001dy\n",
      "Clave: 9, Mensaje: wumW3^1Cmr}zPU3d\u0016hr.s}\u000bdMoj#\u0014(\u0010x\n",
      "Clave: 10, Mensaje: ukljHRH~bpruTi+d\u0003or%sx\u0006dGho\u000b\u0005!*~\n",
      "Clave: 11, Mensaje: shciGVB}cvstio\"d9mr>pw?dXjm3\u0001\u0001<9\"}\n",
      "Clave: 12, Mensaje: picoCTF{custom_d2cr0pt6d_dc499538}\n",
      "Clave: 13, Mensaje: nnbm_iZy`kpwlcXe+arJqr)dSfaI01.56|\n",
      "Clave: 14, Mensaje: oobcXo^w`jpwcaTe-grNqs\"dQ`gB*+!IMs\n",
      "Clave: 15, Mensaje: llaaUm]uaiqvafPe drBqq'dTcfA',$MIs\n"
     ]
    }
   ],
   "source": [
    "def dynamic_xor_decrypt(cipher_text, text_key):\n",
    "    key_length = len(text_key)\n",
    "    decrypted_text = \"\"\n",
    "    for i, char in enumerate(cipher_text):\n",
    "        key_char = text_key[i % key_length]\n",
    "        decrypted_char = chr(ord(char) ^ ord(key_char))\n",
    "        decrypted_text = decrypted_char + decrypted_text\n",
    "    return decrypted_text\n",
    "\n",
    "def decrypt(cipher, shared_key):\n",
    "    decrypted_chars = []\n",
    "    for value in cipher:\n",
    "        if value == 0:\n",
    "            decrypted_chars.append(chr(0))  \n",
    "        else:\n",
    "            decrypted_value = value // (shared_key * 311)\n",
    "            decrypted_chars.append(chr(decrypted_value))\n",
    "    return ''.join(decrypted_chars)\n",
    "\n",
    "def brute_force_decrypt(cipher):\n",
    "    for shared_key in range(1, 16): \n",
    "        try:\n",
    "            semi_decrypted = decrypt(cipher, shared_key)\n",
    "            final_decrypted_message = dynamic_xor_decrypt(semi_decrypted, \"trudeau\")\n",
    "            print(f\"Clave: {shared_key}, Mensaje: {final_decrypted_message}\")\n",
    "        except:\n",
    "            continue \n",
    "\n",
    "cipher = [33588, 276168, 261240, 302292, 343344, 328416, 242580, 85836, 82104, 156744, 0, 309756, 78372, 18660, 253776, 0, 82104, 320952, 3732, 231384, 89568, 100764, 22392, 22392, 63444, 22392, 97032, 190332, 119424, 182868, 97032, 26124, 44784, 63444]\n",
    "\n",
    "brute_force_decrypt(cipher)\n"
   ]
  },
  {
   "cell_type": "markdown",
   "metadata": {},
   "source": [
    "# Problem 5: Rotation\n",
    "## Solution 1\n",
    "For this problem I used this web page for decryption https://cryptii.com/pipes/rot13-decoder and after brute force the shifts I got the correct flag"
   ]
  },
  {
   "cell_type": "markdown",
   "metadata": {},
   "source": [
    "<img src=\"img/img3.png\" alt=\"Texto alternativo\" width=\"1100\" height=\"300\">\n"
   ]
  },
  {
   "cell_type": "markdown",
   "metadata": {},
   "source": [
    "## Solution 2"
   ]
  }
 ],
 "metadata": {
  "kernelspec": {
   "display_name": "Python 3",
   "language": "python",
   "name": "python3"
  },
  "language_info": {
   "codemirror_mode": {
    "name": "ipython",
    "version": 3
   },
   "file_extension": ".py",
   "mimetype": "text/x-python",
   "name": "python",
   "nbconvert_exporter": "python",
   "pygments_lexer": "ipython3",
   "version": "3.12.5"
  }
 },
 "nbformat": 4,
 "nbformat_minor": 2
}
